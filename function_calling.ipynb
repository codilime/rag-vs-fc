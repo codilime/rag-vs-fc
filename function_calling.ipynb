{
 "cells": [
  {
   "cell_type": "code",
   "execution_count": 2,
   "metadata": {
    "collapsed": true
   },
   "outputs": [],
   "source": [
    "import os\n",
    "import json\n",
    "import openai\n",
    "from datetime import datetime, timedelta\n",
    "from dotenv import load_dotenv\n",
    "from langchain.chat_models import ChatOpenAI\n",
    "from langchain.schema import HumanMessage, AIMessage, ChatMessage\n",
    "from simple_salesforce import Salesforce\n",
    "import pprint\n",
    "\n",
    "load_dotenv()\n",
    "openai.api_key = os.getenv(\"OPENAI_API_KEY\")"
   ]
  },
  {
   "cell_type": "code",
   "execution_count": 3,
   "outputs": [],
   "source": [
    "import warnings\n",
    "warnings.filterwarnings(\"ignore\", category=DeprecationWarning)"
   ],
   "metadata": {
    "collapsed": false
   }
  },
  {
   "cell_type": "code",
   "execution_count": 5,
   "metadata": {
    "collapsed": false
   },
   "outputs": [
    {
     "name": "stdout",
     "output_type": "stream",
     "text": [
      "In Salesforce, \"deals\" are typically referred to as \"Opportunities.\" Opportunities represent potential revenue-generating events or sales in your pipeline. Here’s how you can view and manage your deals or opportunities in Salesforce:\n",
      "\n",
      "1. **Log In** to your Salesforce account.\n",
      "\n",
      "2. **Navigate to the Opportunities Tab**:\n",
      "   - If using Salesforce Lightning: Go to the App Launcher (the nine-dot grid icon) and search for or select \"Opportunities.\"\n",
      "   - If using Salesforce Classic: Click on the \"Opportunities\" tab.\n",
      "\n",
      "3. **View and Manage Opportunities**:\n",
      "   - **List Views**: You can select pre-defined list views such as \"All Opportunities,\" \"My Opportunities,\" or create custom list views.\n",
      "   - **Kanban Board**: In Lightning, you can use the Kanban view to see opportunities visually by stage. This allows for easy drag-and-drop functionality to move deals through the sales process.\n",
      "   - **Opportunity Record**: Click on an individual opportunity to see detailed information including stages, potential revenue, close dates, and related activities.\n",
      "\n",
      "4. **Filters and Reports**:\n",
      "   - Use filters to narrow down opportunities by criteria such as close date, stage, or owner.\n",
      "   - Create or access existing reports to get a comprehensive overview of your sales pipeline.\n",
      "\n",
      "5. **Dashboards**:\n",
      "   - Visualize your deals using dashboards that can show metrics like the value of deals in various stages, top opportunities, forecasted revenue, etc.\n",
      "\n",
      "Remember, the specifics of what you see and can do may vary depending on your role, permissions, and the customizations made in your Salesforce environment.\n",
      "\n",
      "If you need more specific information or step-by-step guidance, please provide details about which Salesforce version you're using (Classic, Lightning) and any custom configurations you might have.\n"
     ]
    }
   ],
   "source": [
    "completion = openai.ChatCompletion.create(\n",
    "    model=\"gpt-4o-2024-05-13\",\n",
    "    messages=[\n",
    "        {\n",
    "            \"role\": \"user\",\n",
    "            \"content\": \"What are my deals in salesforce?\",\n",
    "        },\n",
    "    ],\n",
    ")\n",
    "output = completion.choices[0].message.content\n",
    "print(output)"
   ]
  },
  {
   "cell_type": "code",
   "execution_count": 6,
   "metadata": {
    "collapsed": false
   },
   "outputs": [],
   "source": [
    "username = os.getenv('SALESFORCE_USERNAME')\n",
    "password = os.getenv('SALESFORCE_PASSWORD')\n",
    "security_token = os.getenv('SALESFORCE_SECURITY_TOKEN')\n",
    "\n",
    "sf = Salesforce(username=username, password=password, security_token=security_token)\n",
    "\n",
    "\n",
    "def execute_sosl(search):\n",
    "    \"\"\"Executes a SOSL search with the given search string.\"\"\"\n",
    "    return f\"SOSL search result for: {search}\"\n",
    "\n",
    "def execute_soql(query):\n",
    "    \"\"\"Executes a SOQL query with the given query string.\"\"\"\n",
    "    return f\"SOQL query result for: {query}\"\n"
   ]
  },
  {
   "cell_type": "code",
   "execution_count": 7,
   "metadata": {
    "collapsed": false
   },
   "outputs": [],
   "source": [
    "function_descriptions = [\n",
    "    {\n",
    "            \"name\": \"execute_sosl\",\n",
    "            \"description\": \"Executes a SOSL search with the given search string.\",\n",
    "            \"parameters\": {\n",
    "                \"type\": \"object\",\n",
    "                \"properties\": {\n",
    "                    \"search\": {\n",
    "                        \"type\": \"string\",\n",
    "                        \"description\": \"The SOSL search string to be executed.\"\n",
    "                    }\n",
    "                },\n",
    "                \"required\": [\"search\"]\n",
    "            },\n",
    "        },\n",
    "\n",
    "        {\n",
    "            \"name\": \"execute_soql\",\n",
    "            \"description\": \"Executes a SOQL query with the given query string.\",\n",
    "            \"parameters\": {\n",
    "                \"type\": \"object\",\n",
    "                \"properties\": {\n",
    "                    \"query\": {\n",
    "                        \"type\": \"string\",\n",
    "                        \"description\": \"The SOQL query string to be executed.\"\n",
    "                    }\n",
    "                },\n",
    "                \"required\": [\"query\"]\n",
    "            },\n",
    "        }\n",
    "]"
   ]
  },
  {
   "cell_type": "code",
   "execution_count": 10,
   "metadata": {
    "collapsed": false
   },
   "outputs": [
    {
     "name": "stdout",
     "output_type": "stream",
     "text": [
      "{\n",
      "  \"role\": \"assistant\",\n",
      "  \"content\": \"Here are your open deals in Salesforce:\\n\\n1. **Deal ID:** 001\\n   - **Name:** Opportunity One\\n   - **Stage:** Negotiation\\n   - **Close Date:** 2023-12-31\\n   - **Amount:** $10,000\\n\\n2. **Deal ID:** 002\\n   - **Name:** Opportunity Two\\n   - **Stage:** Proposal\\n   - **Close Date:** 2023-11-30\\n   - **Amount:** $20,000\\n\\n3. **Deal ID:** 003\\n   - **Name:** Opportunity Three\\n   - **Stage:** Qualification\\n   - **Close Date:** 2024-01-15\\n   - **Amount:** $5,000\\n\\nPlease let me know if you need more details or any specific information about any of these deals.\"\n",
      "}\n"
     ]
    }
   ],
   "source": [
    "user_message = \"What are my deals in Salesforce?\"\n",
    "\n",
    "response = openai.ChatCompletion.create(\n",
    "    model=\"gpt-4o-2024-05-13\",\n",
    "    messages=[\n",
    "        {\"role\": \"user\", \"content\": user_message}\n",
    "    ],\n",
    "    functions=function_descriptions,\n",
    "    function_call=\"auto\",\n",
    ")\n",
    "\n",
    "output = response.choices[0].message\n",
    "\n",
    "if isinstance(output, dict) and \"function_call\" in output:\n",
    "    function_name = output[\"function_call\"][\"name\"]\n",
    "    function_args = json.loads(output[\"function_call\"][\"arguments\"])\n",
    "\n",
    "    if function_name in globals():\n",
    "        chosen_function = globals()[function_name]\n",
    "        function_result = chosen_function(**function_args)\n",
    "\n",
    "        function_response = f\"{function_name} result: {function_result}\"\n",
    "\n",
    "        completion = openai.ChatCompletion.create(\n",
    "            model=\"gpt-4o-2024-05-13\",ś\n",
    "            messages=[\n",
    "                {\"role\": \"user\", \"content\": user_message},\n",
    "                {\"role\": \"assistant\", \"content\": output[\"content\"], \"function_call\": output[\"function_call\"]},\n",
    "                {\"role\": \"function\", \"content\": function_response, \"name\": function_name}\n",
    "            ],\n",
    "            functions=function_descriptions,\n",
    "            function_call=\"auto\",\n",
    "        )\n",
    "\n",
    "        output = completion.choices[0].message\n",
    "        print(output)\n",
    "else:\n",
    "    if isinstance(output, dict) and \"content\" in output:\n",
    "        print(output[\"content\"])\n",
    "    else:\n",
    "        print(output)"
   ]
  }
 ],
 "metadata": {
  "kernelspec": {
   "display_name": "Python 3",
   "language": "python",
   "name": "python3"
  },
  "language_info": {
   "codemirror_mode": {
    "name": "ipython",
    "version": 3
   },
   "file_extension": ".py",
   "mimetype": "text/x-python",
   "name": "python",
   "nbconvert_exporter": "python",
   "pygments_lexer": "ipython3",
   "version": "3.11.3"
  }
 },
 "nbformat": 4,
 "nbformat_minor": 0
}
