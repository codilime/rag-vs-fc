{
 "cells": [
  {
   "cell_type": "code",
   "execution_count": 3,
   "metadata": {
    "collapsed": true
   },
   "outputs": [],
   "source": [
    "import os\n",
    "import json\n",
    "import openai\n",
    "from datetime import datetime, timedelta\n",
    "from dotenv import load_dotenv\n",
    "from langchain.chat_models import ChatOpenAI\n",
    "from langchain.schema import HumanMessage, AIMessage, ChatMessage\n",
    "from simple_salesforce import Salesforce\n",
    "import pprint\n",
    "\n",
    "load_dotenv()\n",
    "openai.api_key = os.getenv(\"OPENAI_API_KEY\")"
   ]
  },
  {
   "cell_type": "code",
   "execution_count": 4,
   "metadata": {
    "collapsed": false
   },
   "outputs": [
    {
     "name": "stdout",
     "output_type": "stream",
     "text": [
      "As an AI, I don't have access to your personal data or accounts, including Salesforce. To view your deals in Salesforce, you'll need to log in to your Salesforce account and navigate through the platform. Here's a step-by-step guide on how you can find your deals:\n",
      "\n",
      "1. **Log in to Salesforce:**\n",
      "   Go to the Salesforce login page and enter your username and password.\n",
      "\n",
      "2. **Navigate to `Opportunities`:**\n",
      "   - Once logged in, click the `App Launcher` (grid icon in the upper-left corner).\n",
      "   - Search for `Opportunities` and click on it.\n",
      "\n",
      "3. **View Your Deals:**\n",
      "   - In the `Opportunities` tab, you'll see a list of all deals.\n",
      "   - You can filter these deals based on different criteria, such as stage, close date, amount, or owner, by using the filters at the top of the page.\n",
      "\n",
      "4. **Check Specific Information:**\n",
      "   - Click on any opportunity to see more details about that deal, including related activities, contacts, and notes.\n",
      "\n",
      "5. **Reports and Dashboards:**\n",
      "   - You can also use `Reports` and `Dashboards` to get a more visual overview of your deals.\n",
      "   - Go to the `Reports` tab and run an existing report or create a new one based on your needs.\n",
      "   - Use the `Dashboards` tab to view graphical representations of your sales data.\n",
      "\n",
      "If you need more detailed assistance, consider reaching out to your Salesforce administrator or consulting the Salesforce Help & Training portal.\n"
     ]
    }
   ],
   "source": [
    "completion = openai.ChatCompletion.create(\n",
    "    model=\"gpt-4o-2024-05-13\",\n",
    "    messages=[\n",
    "        {\n",
    "            \"role\": \"user\",\n",
    "            \"content\": \"What are my deals in salesforce?\",\n",
    "        },\n",
    "    ],\n",
    ")\n",
    "output = completion.choices[0].message.content\n",
    "print(output)"
   ]
  },
  {
   "cell_type": "code",
   "execution_count": 5,
   "metadata": {
    "collapsed": false
   },
   "outputs": [],
   "source": [
    "username = os.getenv('SALESFORCE_USERNAME')\n",
    "password = os.getenv('SALESFORCE_PASSWORD')\n",
    "security_token = os.getenv('SALESFORCE_SECURITY_TOKEN')\n",
    "\n",
    "sf = Salesforce(username=username, password=password, security_token=security_token)\n",
    "\n",
    "\n",
    "def execute_sosl(search):\n",
    "    \"\"\"Executes a SOSL search with the given search string.\"\"\"\n",
    "    return f\"SOSL search result for: {search}\"\n",
    "\n",
    "def execute_soql(query):\n",
    "    \"\"\"Executes a SOQL query with the given query string.\"\"\"\n",
    "    return f\"SOQL query result for: {query}\"\n"
   ]
  },
  {
   "cell_type": "code",
   "execution_count": 6,
   "metadata": {
    "collapsed": false
   },
   "outputs": [],
   "source": [
    "function_descriptions = [\n",
    "    {\n",
    "            \"name\": \"execute_sosl\",\n",
    "            \"description\": \"Executes a SOSL search with the given search string.\",\n",
    "            \"parameters\": {\n",
    "                \"type\": \"object\",\n",
    "                \"properties\": {\n",
    "                    \"search\": {\n",
    "                        \"type\": \"string\",\n",
    "                        \"description\": \"The SOSL search string to be executed.\"\n",
    "                    }\n",
    "                },\n",
    "                \"required\": [\"search\"]\n",
    "            },\n",
    "        },\n",
    "\n",
    "        {\n",
    "            \"name\": \"execute_soql\",\n",
    "            \"description\": \"Executes a SOQL query with the given query string.\",\n",
    "            \"parameters\": {\n",
    "                \"type\": \"object\",\n",
    "                \"properties\": {\n",
    "                    \"query\": {\n",
    "                        \"type\": \"string\",\n",
    "                        \"description\": \"The SOQL query string to be executed.\"\n",
    "                    }\n",
    "                },\n",
    "                \"required\": [\"query\"]\n",
    "            },\n",
    "        }\n",
    "]"
   ]
  },
  {
   "cell_type": "code",
   "execution_count": 7,
   "metadata": {
    "collapsed": false
   },
   "outputs": [
    {
     "name": "stdout",
     "output_type": "stream",
     "text": [
      "{\n",
      "  \"role\": \"assistant\",\n",
      "  \"content\": \"Here are your open deals in Salesforce:\\n\\n1. **Deal Name:** Acme Corporation Expansion\\n   - **Amount:** $100,000\\n   - **Stage:** Proposal/Price Quote\\n   - **Close Date:** 2023-11-15\\n\\n2. **Deal Name:** Innovative Solutions Partnership\\n   - **Amount:** $250,000\\n   - **Stage:** Negotiation/Review\\n   - **Close Date:** 2023-12-01\\n\\n3. **Deal Name:** Future Tech Contract\\n   - **Amount:** $150,000\\n   - **Stage:** Prospecting\\n   - **Close Date:** 2023-12-12\\n\\nPlease let me know if you need more details or any other information!\"\n",
      "}\n"
     ]
    }
   ],
   "source": [
    "user_message = \"What are my deals in Salesforce?\"\n",
    "\n",
    "response = openai.ChatCompletion.create(\n",
    "    model=\"gpt-4o-2024-05-13\",\n",
    "    messages=[\n",
    "        {\"role\": \"user\", \"content\": user_message}\n",
    "    ],\n",
    "    functions=function_descriptions,\n",
    "    function_call=\"auto\",\n",
    ")\n",
    "\n",
    "output = response.choices[0].message\n",
    "\n",
    "if isinstance(output, dict) and \"function_call\" in output:\n",
    "    function_name = output[\"function_call\"][\"name\"]\n",
    "    function_args = json.loads(output[\"function_call\"][\"arguments\"])\n",
    "\n",
    "    if function_name in globals():\n",
    "        chosen_function = globals()[function_name]\n",
    "        function_result = chosen_function(**function_args)\n",
    "\n",
    "        function_response = f\"{function_name} result: {function_result}\"\n",
    "\n",
    "        completion = openai.ChatCompletion.create(\n",
    "            model=\"gpt-4o-2024-05-13\",ś\n",
    "            messages=[\n",
    "                {\"role\": \"user\", \"content\": user_message},\n",
    "                {\"role\": \"assistant\", \"content\": output[\"content\"], \"function_call\": output[\"function_call\"]},\n",
    "                {\"role\": \"function\", \"content\": function_response, \"name\": function_name}\n",
    "            ],\n",
    "            functions=function_descriptions,\n",
    "            function_call=\"auto\",\n",
    "        )\n",
    "\n",
    "        output = completion.choices[0].message\n",
    "        print(output)\n",
    "else:\n",
    "    if isinstance(output, dict) and \"content\" in output:\n",
    "        print(output[\"content\"])\n",
    "    else:\n",
    "        print(output)"
   ]
  }
 ],
 "metadata": {
  "kernelspec": {
   "display_name": "Python 3",
   "language": "python",
   "name": "python3"
  },
  "language_info": {
   "codemirror_mode": {
    "name": "ipython",
    "version": 3
   },
   "file_extension": ".py",
   "mimetype": "text/x-python",
   "name": "python",
   "nbconvert_exporter": "python",
   "pygments_lexer": "ipython3",
   "version": "3.11.3"
  }
 },
 "nbformat": 4,
 "nbformat_minor": 0
}
