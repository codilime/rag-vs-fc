{
 "cells": [
  {
   "cell_type": "code",
   "execution_count": null,
   "metadata": {
    "collapsed": true
   },
   "outputs": [],
   "source": [
    "import os\n",
    "import json\n",
    "import openai\n",
    "from datetime import datetime, timedelta\n",
    "from dotenv import load_dotenv\n",
    "from langchain.chat_models import ChatOpenAI\n",
    "from langchain.schema import HumanMessage, AIMessage, ChatMessage\n",
    "from simple_salesforce import Salesforce\n",
    "import pprint\n",
    "\n",
    "load_dotenv()\n",
    "openai.api_key = os.getenv(\"OPENAI_API_KEY\")"
   ]
  },
  {
   "cell_type": "code",
   "execution_count": null,
   "metadata": {
    "collapsed": false
   },
   "outputs": [],
   "source": [
    "completion = openai.ChatCompletion.create(\n",
    "    model=\"gpt-4o-2024-05-13\",\n",
    "    messages=[\n",
    "        {\n",
    "            \"role\": \"user\",\n",
    "            \"content\": \"What are my deals in salesforce?\",\n",
    "        },\n",
    "    ],\n",
    ")\n",
    "output = completion.choices[0].message.content\n",
    "print(output)"
   ]
  },
  {
   "cell_type": "code",
   "execution_count": null,
   "metadata": {
    "collapsed": false
   },
   "outputs": [],
   "source": [
    "username = os.getenv('SALESFORCE_USERNAME')\n",
    "password = os.getenv('SALESFORCE_PASSWORD')\n",
    "security_token = os.getenv('SALESFORCE_SECURITY_TOKEN')\n",
    "\n",
    "sf = Salesforce(username=username, password=password, security_token=security_token)\n",
    "\n",
    "\n",
    "def execute_sosl(search):\n",
    "    \"\"\"Executes a SOSL search with the given search string.\"\"\"\n",
    "    return f\"SOSL search result for: {search}\"\n",
    "\n",
    "def execute_soql(query):\n",
    "    \"\"\"Executes a SOQL query with the given query string.\"\"\"\n",
    "    return f\"SOQL query result for: {query}\"\n"
   ]
  },
  {
   "cell_type": "code",
   "execution_count": null,
   "metadata": {
    "collapsed": false
   },
   "outputs": [],
   "source": [
    "function_descriptions = [\n",
    "    {\n",
    "            \"name\": \"execute_sosl\",\n",
    "            \"description\": \"Executes a SOSL search with the given search string.\",\n",
    "            \"parameters\": {\n",
    "                \"type\": \"object\",\n",
    "                \"properties\": {\n",
    "                    \"search\": {\n",
    "                        \"type\": \"string\",\n",
    "                        \"description\": \"The SOSL search string to be executed.\"\n",
    "                    }\n",
    "                },\n",
    "                \"required\": [\"search\"]\n",
    "            },\n",
    "        },\n",
    "\n",
    "        {\n",
    "            \"name\": \"execute_soql\",\n",
    "            \"description\": \"Executes a SOQL query with the given query string.\",\n",
    "            \"parameters\": {\n",
    "                \"type\": \"object\",\n",
    "                \"properties\": {\n",
    "                    \"query\": {\n",
    "                        \"type\": \"string\",\n",
    "                        \"description\": \"The SOQL query string to be executed.\"\n",
    "                    }\n",
    "                },\n",
    "                \"required\": [\"query\"]\n",
    "            },\n",
    "        }\n",
    "]"
   ]
  },
  {
   "cell_type": "code",
   "execution_count": null,
   "metadata": {
    "collapsed": false
   },
   "outputs": [],
   "source": [
    "user_message = \"What are my deals in Salesforce?\"\n",
    "\n",
    "response = openai.ChatCompletion.create(\n",
    "    model=\"gpt-4o-2024-05-13\",\n",
    "    messages=[\n",
    "        {\"role\": \"user\", \"content\": user_message}\n",
    "    ],\n",
    "    functions=function_descriptions,\n",
    "    function_call=\"auto\",\n",
    ")\n",
    "\n",
    "output = response.choices[0].message\n",
    "\n",
    "if isinstance(output, dict) and \"function_call\" in output:\n",
    "    function_name = output[\"function_call\"][\"name\"]\n",
    "    function_args = json.loads(output[\"function_call\"][\"arguments\"])\n",
    "\n",
    "    if function_name in globals():\n",
    "        chosen_function = globals()[function_name]\n",
    "        function_result = chosen_function(**function_args)\n",
    "\n",
    "        function_response = f\"{function_name} result: {function_result}\"\n",
    "\n",
    "        completion = openai.ChatCompletion.create(\n",
    "            model=\"gpt-4o-2024-05-13\",\n",
    "            messages=[\n",
    "                {\"role\": \"user\", \"content\": user_message},\n",
    "                {\"role\": \"assistant\", \"content\": output[\"content\"], \"function_call\": output[\"function_call\"]},\n",
    "                {\"role\": \"function\", \"content\": function_response, \"name\": function_name}\n",
    "            ],\n",
    "            functions=function_descriptions,\n",
    "            function_call=\"auto\",\n",
    "        )\n",
    "\n",
    "        output = completion.choices[0].message\n",
    "        print(output)\n",
    "else:\n",
    "    if isinstance(output, dict) and \"content\" in output:\n",
    "        print(output[\"content\"])\n",
    "    else:\n",
    "        print(output)"
   ]
  }
 ],
 "metadata": {
  "kernelspec": {
   "display_name": "Python 3",
   "language": "python",
   "name": "python3"
  },
  "language_info": {
   "codemirror_mode": {
    "name": "ipython",
    "version": 2
   },
   "file_extension": ".py",
   "mimetype": "text/x-python",
   "name": "python",
   "nbconvert_exporter": "python",
   "pygments_lexer": "ipython2",
   "version": "2.7.6"
  }
 },
 "nbformat": 4,
 "nbformat_minor": 0
}
