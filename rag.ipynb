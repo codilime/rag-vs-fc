{
 "cells": [
  {
   "cell_type": "code",
   "execution_count": 1,
   "metadata": {
    "collapsed": true
   },
   "outputs": [],
   "source": [
    "from langchain_community.document_loaders import PyPDFLoader\n",
    "from langchain.text_splitter import RecursiveCharacterTextSplitter\n",
    "from langchain.vectorstores import Chroma\n",
    "from langchain.embeddings import OpenAIEmbeddings\n",
    "from dotenv import load_dotenv\n",
    "import openai\n",
    "import os\n",
    "from langchain.chains import RetrievalQA\n",
    "from langchain.prompts import PromptTemplate\n",
    "from langchain.chat_models import ChatOpenAI\n",
    "import pprint\n",
    "\n",
    "load_dotenv()\n",
    "openai.api_key = os.getenv(\"OPENAI_API_KEY\")"
   ]
  },
  {
   "cell_type": "code",
   "execution_count": 2,
   "metadata": {},
   "outputs": [],
   "source": [
    "import warnings\n",
    "warnings.filterwarnings(\"ignore\", category=DeprecationWarning)"
   ]
  },
  {
   "cell_type": "code",
   "execution_count": 3,
   "metadata": {
    "collapsed": false
   },
   "outputs": [],
   "source": [
    "# Load the PDF document\n",
    "loader = PyPDFLoader(\"example_data/sample_pdf.pdf\")\n",
    "pages = loader.load_and_split()"
   ]
  },
  {
   "cell_type": "code",
   "execution_count": 4,
   "metadata": {
    "collapsed": false
   },
   "outputs": [],
   "source": [
    "# Split the text into chunks\n",
    "text_splitter = RecursiveCharacterTextSplitter(\n",
    "    chunk_size=2000,\n",
    "    chunk_overlap=100,\n",
    ")\n",
    "data = text_splitter.split_documents(pages)"
   ]
  },
  {
   "cell_type": "code",
   "execution_count": 5,
   "metadata": {
    "collapsed": false
   },
   "outputs": [
    {
     "data": {
      "text/plain": "Document(page_content='2 UNDP Global Project Contribution \\nPartners  \\n \\nIn 2022, the Global Project on Managing Development Co-operation  Effectively received support \\nfrom Canada, the European Commission, Germany, the Republic of Korea, Sweden and Switzerland \\nto implement the priorities outlined in the Global Project document and in line with the 2020 -2022 \\nWork Programme of the Global Partn ership for Effective Development.  \\n \\n \\n \\n \\n \\n \\n \\n \\n \\n \\n \\n \\n \\n \\n \\n \\n \\n \\n \\n \\n \\n \\n \\n \\n \\n \\nCopyright © 2023 United Nations Development Programme  \\nAll rights reserved.  \\nUNDP is the leading United Nations organization fighting to end the injustice of poverty, inequality, and climate \\nchange. Working with our broad network of experts and partners in 170 countries, we help nations to build \\nintegrated, lasting solutions for pe ople and planet. Learn more at undp.org or follow at @UNDP.  \\nThis publication or parts of it may not be reproduced; stored by means of any system; or transmitted, in any form \\nor by any medium, whether electronic, mechanical, photocopied, recorded or of any  other type, without the prior \\npermission of the United Nations Development Programme.', metadata={'source': 'example_data/sample_pdf.pdf', 'page': 1})"
     },
     "execution_count": 5,
     "metadata": {},
     "output_type": "execute_result"
    }
   ],
   "source": [
    "data[1]"
   ]
  },
  {
   "cell_type": "code",
   "execution_count": 6,
   "metadata": {
    "collapsed": false
   },
   "outputs": [],
   "source": [
    "# Initialize OpenAI embeddings\n",
    "embeddings = OpenAIEmbeddings()"
   ]
  },
  {
   "cell_type": "code",
   "execution_count": 7,
   "metadata": {
    "collapsed": false
   },
   "outputs": [],
   "source": [
    "embeddings = OpenAIEmbeddings()\n",
    "# Create a Chroma vector store and persist it\n",
    "store = Chroma.from_documents(\n",
    "    data,\n",
    "    embeddings,\n",
    "    ids=[f\"{item.metadata['source']}-{index}\" for index, item in enumerate(data)],\n",
    "    collection_name=\"pdf-sample\",\n",
    "    persist_directory='db',\n",
    ")\n",
    "store.persist()"
   ]
  },
  {
   "cell_type": "code",
   "execution_count": 10,
   "metadata": {
    "collapsed": false
   },
   "outputs": [
    {
     "name": "stdout",
     "output_type": "stream",
     "text": [
      "{'query': 'What is the main topic of the document?',\n",
      " 'result': 'The main topic of the document is the Global Partnership for '\n",
      "           'Effective Development Cooperation, focusing on key results '\n",
      "           'achieved in 2022, challenges, and the way forward, as well as '\n",
      "           'financial execution and donor information for that year.',\n",
      " 'source_documents': [Document(page_content='1', metadata={'page': 0, 'source': 'example_data/sample_pdf.pdf'}),\n",
      "                      Document(page_content='4 Table of Content  \\n \\n \\n \\nAcronyms   5 \\nAbout the G lobal Partnership  \\nfor Effective Development Cooperation   6 \\nKey Results Achieved in 2022  8 \\n▪ Output 1  8 \\n▪ Output 2  14 \\n▪ Output 3  21 \\n▪ Output 4 and 5  27 \\nChallenges and Way forward  34 \\nAnnex I: Financial Project  Execution in 2022 (Provisional)  35 \\nAnnex II: List of Donors in 2022  36 \\nAnnex III: Result Framework and Financing report  37', metadata={'page': 3, 'source': 'example_data/sample_pdf.pdf'}),\n",
      "                      Document(page_content='12 development co -operation and how development partners align and use them?  \\n• Transparency : What actions are partner countries and development partners taking to \\nmake development co -operation transparent?  \\n• Leaving No One Behind : How is everyone consulted and targeted in developm ent co -\\noperation? And is disaggregated data available to monitor progress?  \\n \\n \\nThe content of the new monitoring framework preserves comparability and continuity of trends by \\nretaining all past measurements, with the exception of the previous Indicator 3 on public -private \\ndialogue which was replaced by the Kampala Principles assessme nt.', metadata={'page': 11, 'source': 'example_data/sample_pdf.pdf'}),\n",
      "                      Document(page_content='coordinators , who are the main government focal points \\nto take the lead in implementing the monitoring exercise \\nat country level , was sufficiently captured in the \\nmonitoring guide, JST conducted pilot calls with Egypt, \\nKenya and Samoa in November 2022.', metadata={'page': 8, 'source': 'example_data/sample_pdf.pdf'})]}\n"
     ]
    }
   ],
   "source": [
    "# Define a prompt template for the question-answering system\n",
    "template = \"\"\"\n",
    "You are an AI assistant that answers questions about loaded PDF files, using only the provided context.\n",
    "If you don't know the answer based on the given context, simply state that you don't have enough information to answer.\n",
    "\n",
    "Context:\n",
    "{context}\n",
    "\n",
    "Question: {question}\n",
    "\n",
    "Answer:\"\"\"\n",
    "\n",
    "PROMPT = PromptTemplate(\n",
    "    template=template, input_variables=[\"context\", \"question\"]\n",
    ")\n",
    "\n",
    "# Initialize the language model\n",
    "llm = ChatOpenAI(temperature=0, model=\"gpt-4o-2024-05-13\")\n",
    "\n",
    "# Create a retrieval-based question-answering system\n",
    "qa_with_source = RetrievalQA.from_chain_type(\n",
    "    llm=llm,\n",
    "    chain_type=\"stuff\",\n",
    "    retriever=store.as_retriever(),\n",
    "    chain_type_kwargs={\"prompt\": PROMPT},\n",
    "    return_source_documents=True,\n",
    ")"
   ]
  },
  {
   "cell_type": "code",
   "execution_count": 9,
   "metadata": {
    "collapsed": false
   },
   "outputs": [
    {
     "name": "stdout",
     "output_type": "stream",
     "text": [
      "{'query': 'What is the main topic of the document?',\n",
      " 'result': 'The main topic of the document is the Global Partnership for '\n",
      "           'Effective Development Cooperation, focusing on key results '\n",
      "           'achieved in 2022, challenges, and the way forward, as well as '\n",
      "           'financial execution and donor information for that year.',\n",
      " 'source_documents': [Document(page_content='1', metadata={'page': 0, 'source': 'example_data/sample_pdf.pdf'}),\n",
      "                      Document(page_content='4 Table of Content  \\n \\n \\n \\nAcronyms   5 \\nAbout the G lobal Partnership  \\nfor Effective Development Cooperation   6 \\nKey Results Achieved in 2022  8 \\n▪ Output 1  8 \\n▪ Output 2  14 \\n▪ Output 3  21 \\n▪ Output 4 and 5  27 \\nChallenges and Way forward  34 \\nAnnex I: Financial Project  Execution in 2022 (Provisional)  35 \\nAnnex II: List of Donors in 2022  36 \\nAnnex III: Result Framework and Financing report  37', metadata={'page': 3, 'source': 'example_data/sample_pdf.pdf'}),\n",
      "                      Document(page_content='12 development co -operation and how development partners align and use them?  \\n• Transparency : What actions are partner countries and development partners taking to \\nmake development co -operation transparent?  \\n• Leaving No One Behind : How is everyone consulted and targeted in developm ent co -\\noperation? And is disaggregated data available to monitor progress?  \\n \\n \\nThe content of the new monitoring framework preserves comparability and continuity of trends by \\nretaining all past measurements, with the exception of the previous Indicator 3 on public -private \\ndialogue which was replaced by the Kampala Principles assessme nt.', metadata={'page': 11, 'source': 'example_data/sample_pdf.pdf'}),\n",
      "                      Document(page_content='coordinators , who are the main government focal points \\nto take the lead in implementing the monitoring exercise \\nat country level , was sufficiently captured in the \\nmonitoring guide, JST conducted pilot calls with Egypt, \\nKenya and Samoa in November 2022.', metadata={'page': 8, 'source': 'example_data/sample_pdf.pdf'})]}\n"
     ]
    }
   ],
   "source": [
    "# Ask a question and print the answer\n",
    "question = \"What is the main topic of the document?\"\n",
    "result = qa_with_source(question)\n",
    "pprint.pprint(result)"
   ]
  }
 ],
 "metadata": {
  "kernelspec": {
   "display_name": "Python 3",
   "language": "python",
   "name": "python3"
  },
  "language_info": {
   "codemirror_mode": {
    "name": "ipython",
    "version": 3
   },
   "file_extension": ".py",
   "mimetype": "text/x-python",
   "name": "python",
   "nbconvert_exporter": "python",
   "pygments_lexer": "ipython3",
   "version": "3.11.3"
  }
 },
 "nbformat": 4,
 "nbformat_minor": 0
}
